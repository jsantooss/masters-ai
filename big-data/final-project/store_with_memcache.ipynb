{
 "cells": [
  {
   "cell_type": "code",
   "execution_count": 3,
   "metadata": {},
   "outputs": [
    {
     "name": "stdout",
     "output_type": "stream",
     "text": [
      "Dado em cluster!\n"
     ]
    }
   ],
   "source": [
    "from pymemcache.client.hash import HashClient\n",
    "\n",
    "# Criar um cluster distribuído com 3 nós Memcached\n",
    "cluster1 = HashClient([\n",
    "    ('localhost', 11211),\n",
    "    ('localhost', 11212),\n",
    "    ('localhost', 11213),\n",
    "])\n",
    "\n",
    "# Armazenar e recuperar um valor distribuído no cluster\n",
    "cluster1.set('chave_distribuida', 'Dado em cluster!')\n",
    "print(cluster1.get('chave_distribuida').decode())"
   ]
  },
  {
   "cell_type": "code",
   "execution_count": null,
   "metadata": {},
   "outputs": [
    {
     "name": "stdout",
     "output_type": "stream",
     "text": [
      "=== Armazenando produtos no cluster ===\n",
      "Produto prod_1 armazenado.\n",
      "Produto prod_2 armazenado.\n",
      "Produto prod_3 armazenado.\n",
      "Produto prod_4 armazenado.\n",
      "Produto prod_5 armazenado.\n",
      "Produto prod_6 armazenado.\n",
      "\n",
      "=== Recuperando os produtos armazenados ===\n",
      "prod_1: {'id': 1, 'name': 'Laptop', 'price': 2500}\n",
      "prod_2: {'id': 2, 'name': 'Smartphone', 'price': 1200}\n",
      "prod_3: {'id': 3, 'name': 'Headphones', 'price': 300}\n",
      "prod_4: {'id': 4, 'name': 'Smartwatch', 'price': 500}\n",
      "prod_5: {'id': 5, 'name': 'Headphones da Loja', 'price': 600}\n",
      "prod_6: {'id': 6, 'name': 'Smartwatch da Loja', 'price': 10000000}\n",
      "\n",
      "A chave 'non_existent_key' não existe no cluster.\n",
      "\n",
      "=== Atualizando e Deletando produtos ===\n",
      "Produto prod_2 atualizado.\n",
      "Produto prod_3 deletado.\n",
      "Produto prod_3 foi removido com sucesso.\n",
      "\n",
      "=== Operações de Incremento (contador de views) ===\n",
      "Views para prod_1: 2\n"
     ]
    }
   ],
   "source": [
    "import json\n",
    "from pymemcache.client.hash import HashClient\n",
    "\n",
    "# Criar um cluster distribuído com 3 nós Memcached\n",
    "servers = [\n",
    "    ('localhost', 11211),\n",
    "    ('localhost', 11212),\n",
    "    ('localhost', 11213),\n",
    "]\n",
    "cluster = HashClient(servers)\n",
    "\n",
    "# Função de debug para saber qual servidor armazena uma chave (método interno)\n",
    "def get_server_for_key(client, key):\n",
    "    server = client._get_server(key)  # Atenção: método interno, para debug apenas.\n",
    "    return server\n",
    "\n",
    "# Simular dados de produtos (exemplo de e-commerce)\n",
    "products = {\n",
    "    \"prod_1\": {\"id\": 1, \"name\": \"Laptop\", \"price\": 2500},\n",
    "    \"prod_2\": {\"id\": 2, \"name\": \"Smartphone\", \"price\": 1200},\n",
    "    \"prod_3\": {\"id\": 3, \"name\": \"Headphones\", \"price\": 300},\n",
    "    \"prod_4\": {\"id\": 4, \"name\": \"Smartwatch\", \"price\": 500},\n",
    "    \"prod_5\": {\"id\": 5, \"name\": \"Headphones da Loja\", \"price\": 600},\n",
    "    \"prod_6\": {\"id\": 6, \"name\": \"Smartwatch da Loja\", \"price\": 10000000},\n",
    "}\n",
    "\n",
    "print(\"=== Armazenando produtos no cluster ===\")\n",
    "# Armazenar cada produto como JSON com expiração de 1 hora (3600 segundos)\n",
    "for key, product in products.items():\n",
    "    data = json.dumps(product)\n",
    "    cluster.set(key, data, expire=120)\n",
    "    print(f\"Produto {key} armazenado.\")\n",
    "\n",
    "print(\"\\n=== Recuperando os produtos armazenados ===\")\n",
    "# Recuperar e exibir os produtos\n",
    "for key in products.keys():\n",
    "    value = cluster.get(key)\n",
    "    if value:\n",
    "        product_data = json.loads(value.decode())\n",
    "        print(f\"{key}: {product_data}\")\n",
    "    else:\n",
    "        print(f\"{key}: Não encontrado no cache.\")\n",
    "\n",
    "# Testar o acesso a uma chave que não existe\n",
    "non_existent = cluster.get(\"non_existent_key\")\n",
    "if non_existent is None:\n",
    "    print(\"\\nA chave 'non_existent_key' não existe no cluster.\")\n",
    "\n",
    "print(\"\\n=== Atualizando e Deletando produtos ===\")\n",
    "# Atualizar o produto 2\n",
    "updated_product = {\"id\": 2, \"name\": \"Smartphone Pro\", \"price\": 1500}\n",
    "cluster.set(\"prod_2\", json.dumps(updated_product), expire=3600)\n",
    "print(\"Produto prod_2 atualizado.\")\n",
    "\n",
    "# Deletar o produto 3\n",
    "cluster.delete(\"prod_3\")\n",
    "print(\"Produto prod_3 deletado.\")\n",
    "\n",
    "# Verificar a deleção\n",
    "if cluster.get(\"prod_3\") is None:\n",
    "    print(\"Produto prod_3 foi removido com sucesso.\")\n",
    "\n",
    "print(\"\\n=== Operações de Incremento (contador de views) ===\")\n",
    "# Configurar um contador para visualizações de um produto, pode ser necessário quantas vezes o produto está a ser acessado para monitorar e analisar o tráfego ou populariadade de conteúdos\n",
    "cluster.set(\"views_prod_1\", \"0\")\n",
    "cluster.incr(\"views_prod_1\", 1)\n",
    "cluster.incr(\"views_prod_1\", 1)\n",
    "views = cluster.get(\"views_prod_1\")\n",
    "print(\"Views para prod_1:\", views.decode())\n"
   ]
  }
 ],
 "metadata": {
  "kernelspec": {
   "display_name": "tf-new",
   "language": "python",
   "name": "python3"
  },
  "language_info": {
   "codemirror_mode": {
    "name": "ipython",
    "version": 3
   },
   "file_extension": ".py",
   "mimetype": "text/x-python",
   "name": "python",
   "nbconvert_exporter": "python",
   "pygments_lexer": "ipython3",
   "version": "3.9.18"
  }
 },
 "nbformat": 4,
 "nbformat_minor": 2
}
